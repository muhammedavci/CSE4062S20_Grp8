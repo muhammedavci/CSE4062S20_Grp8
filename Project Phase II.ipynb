{
 "cells": [
  {
   "cell_type": "code",
   "execution_count": 163,
   "metadata": {},
   "outputs": [],
   "source": [
    "import pandas as pd\n",
    "import numpy as np\n",
    "import seaborn as sns"
   ]
  },
  {
   "cell_type": "code",
   "execution_count": 164,
   "metadata": {},
   "outputs": [],
   "source": [
    "dataset=pd.read_excel('C:/Users/Furkan/Desktop/Project.xlsx')  #The Main Data\n",
    "df=dataset.copy()"
   ]
  },
  {
   "cell_type": "code",
   "execution_count": 166,
   "metadata": {},
   "outputs": [],
   "source": [
    "dataset_weather=pd.read_excel('C:/Users/Furkan/Desktop/YalovaWeather.xlsx') # The weather Data we want to add to our data\n",
    "df_w=dataset_weather.copy()"
   ]
  },
  {
   "cell_type": "code",
   "execution_count": 167,
   "metadata": {},
   "outputs": [
    {
     "data": {
      "text/html": [
       "<div>\n",
       "<style scoped>\n",
       "    .dataframe tbody tr th:only-of-type {\n",
       "        vertical-align: middle;\n",
       "    }\n",
       "\n",
       "    .dataframe tbody tr th {\n",
       "        vertical-align: top;\n",
       "    }\n",
       "\n",
       "    .dataframe thead th {\n",
       "        text-align: right;\n",
       "    }\n",
       "</style>\n",
       "<table border=\"1\" class=\"dataframe\">\n",
       "  <thead>\n",
       "    <tr style=\"text-align: right;\">\n",
       "      <th></th>\n",
       "      <th>Date</th>\n",
       "      <th>Time</th>\n",
       "      <th>LV ActivePower (kW)</th>\n",
       "      <th>Wind Speed (m/s)</th>\n",
       "      <th>Theoretical_Power_Curve (KWh)</th>\n",
       "      <th>Wind Direction (°)</th>\n",
       "      <th>Month</th>\n",
       "      <th>Day/Night</th>\n",
       "    </tr>\n",
       "  </thead>\n",
       "  <tbody>\n",
       "    <tr>\n",
       "      <th>0</th>\n",
       "      <td>01 01 2018</td>\n",
       "      <td>00:00:00</td>\n",
       "      <td>380.047791</td>\n",
       "      <td>5.311336</td>\n",
       "      <td>416.328908</td>\n",
       "      <td>259.994904</td>\n",
       "      <td>1</td>\n",
       "      <td>0</td>\n",
       "    </tr>\n",
       "    <tr>\n",
       "      <th>1</th>\n",
       "      <td>01 01 2018</td>\n",
       "      <td>00:10:00</td>\n",
       "      <td>453.769196</td>\n",
       "      <td>5.672167</td>\n",
       "      <td>519.917511</td>\n",
       "      <td>268.641113</td>\n",
       "      <td>1</td>\n",
       "      <td>0</td>\n",
       "    </tr>\n",
       "    <tr>\n",
       "      <th>2</th>\n",
       "      <td>01 01 2018</td>\n",
       "      <td>00:20:00</td>\n",
       "      <td>306.376587</td>\n",
       "      <td>5.216037</td>\n",
       "      <td>390.900016</td>\n",
       "      <td>272.564789</td>\n",
       "      <td>1</td>\n",
       "      <td>0</td>\n",
       "    </tr>\n",
       "    <tr>\n",
       "      <th>3</th>\n",
       "      <td>01 01 2018</td>\n",
       "      <td>00:30:00</td>\n",
       "      <td>419.645904</td>\n",
       "      <td>5.659674</td>\n",
       "      <td>516.127569</td>\n",
       "      <td>271.258087</td>\n",
       "      <td>1</td>\n",
       "      <td>0</td>\n",
       "    </tr>\n",
       "    <tr>\n",
       "      <th>4</th>\n",
       "      <td>01 01 2018</td>\n",
       "      <td>00:40:00</td>\n",
       "      <td>380.650696</td>\n",
       "      <td>5.577941</td>\n",
       "      <td>491.702972</td>\n",
       "      <td>265.674286</td>\n",
       "      <td>1</td>\n",
       "      <td>0</td>\n",
       "    </tr>\n",
       "  </tbody>\n",
       "</table>\n",
       "</div>"
      ],
      "text/plain": [
       "         Date      Time  LV ActivePower (kW)  Wind Speed (m/s)  \\\n",
       "0  01 01 2018  00:00:00           380.047791          5.311336   \n",
       "1  01 01 2018  00:10:00           453.769196          5.672167   \n",
       "2  01 01 2018  00:20:00           306.376587          5.216037   \n",
       "3  01 01 2018  00:30:00           419.645904          5.659674   \n",
       "4  01 01 2018  00:40:00           380.650696          5.577941   \n",
       "\n",
       "   Theoretical_Power_Curve (KWh)  Wind Direction (°)  Month  Day/Night  \n",
       "0                     416.328908          259.994904      1          0  \n",
       "1                     519.917511          268.641113      1          0  \n",
       "2                     390.900016          272.564789      1          0  \n",
       "3                     516.127569          271.258087      1          0  \n",
       "4                     491.702972          265.674286      1          0  "
      ]
     },
     "execution_count": 167,
     "metadata": {},
     "output_type": "execute_result"
    }
   ],
   "source": [
    "df.head()"
   ]
  },
  {
   "cell_type": "code",
   "execution_count": 168,
   "metadata": {},
   "outputs": [
    {
     "data": {
      "text/html": [
       "<div>\n",
       "<style scoped>\n",
       "    .dataframe tbody tr th:only-of-type {\n",
       "        vertical-align: middle;\n",
       "    }\n",
       "\n",
       "    .dataframe tbody tr th {\n",
       "        vertical-align: top;\n",
       "    }\n",
       "\n",
       "    .dataframe thead th {\n",
       "        text-align: right;\n",
       "    }\n",
       "</style>\n",
       "<table border=\"1\" class=\"dataframe\">\n",
       "  <thead>\n",
       "    <tr style=\"text-align: right;\">\n",
       "      <th></th>\n",
       "      <th>Date</th>\n",
       "      <th>Day/Night</th>\n",
       "      <th>Temp</th>\n",
       "      <th>Sun Hour</th>\n",
       "      <th>Moon Illimunation</th>\n",
       "      <th>Moonrise</th>\n",
       "      <th>Moonset</th>\n",
       "      <th>Sunrise</th>\n",
       "      <th>Sunset</th>\n",
       "      <th>DewPoint Temp</th>\n",
       "      <th>WindChillC</th>\n",
       "      <th>WindGustKmph</th>\n",
       "      <th>Humidity</th>\n",
       "      <th>RainMM</th>\n",
       "      <th>Pressure</th>\n",
       "      <th>Visibility</th>\n",
       "    </tr>\n",
       "  </thead>\n",
       "  <tbody>\n",
       "    <tr>\n",
       "      <th>0</th>\n",
       "      <td>01 01 2018</td>\n",
       "      <td>0</td>\n",
       "      <td>4</td>\n",
       "      <td>8.7</td>\n",
       "      <td>97</td>\n",
       "      <td>17:23:00</td>\n",
       "      <td>07:20:00</td>\n",
       "      <td>08:27:00</td>\n",
       "      <td>17:46:00</td>\n",
       "      <td>3</td>\n",
       "      <td>5</td>\n",
       "      <td>6</td>\n",
       "      <td>89</td>\n",
       "      <td>0.0</td>\n",
       "      <td>1020</td>\n",
       "      <td>10</td>\n",
       "    </tr>\n",
       "    <tr>\n",
       "      <th>1</th>\n",
       "      <td>01 01 2018</td>\n",
       "      <td>1</td>\n",
       "      <td>10</td>\n",
       "      <td>8.7</td>\n",
       "      <td>97</td>\n",
       "      <td>17:23:00</td>\n",
       "      <td>07:20:00</td>\n",
       "      <td>08:27:00</td>\n",
       "      <td>17:46:00</td>\n",
       "      <td>2</td>\n",
       "      <td>11</td>\n",
       "      <td>6</td>\n",
       "      <td>53</td>\n",
       "      <td>0.0</td>\n",
       "      <td>1017</td>\n",
       "      <td>10</td>\n",
       "    </tr>\n",
       "    <tr>\n",
       "      <th>2</th>\n",
       "      <td>02 01 2018</td>\n",
       "      <td>0</td>\n",
       "      <td>7</td>\n",
       "      <td>7.0</td>\n",
       "      <td>100</td>\n",
       "      <td>18:27:00</td>\n",
       "      <td>08:25:00</td>\n",
       "      <td>08:27:00</td>\n",
       "      <td>17:47:00</td>\n",
       "      <td>3</td>\n",
       "      <td>7</td>\n",
       "      <td>15</td>\n",
       "      <td>69</td>\n",
       "      <td>0.0</td>\n",
       "      <td>1014</td>\n",
       "      <td>10</td>\n",
       "    </tr>\n",
       "    <tr>\n",
       "      <th>3</th>\n",
       "      <td>02 01 2018</td>\n",
       "      <td>1</td>\n",
       "      <td>13</td>\n",
       "      <td>7.0</td>\n",
       "      <td>100</td>\n",
       "      <td>18:27:00</td>\n",
       "      <td>08:25:00</td>\n",
       "      <td>08:27:00</td>\n",
       "      <td>17:47:00</td>\n",
       "      <td>5</td>\n",
       "      <td>13</td>\n",
       "      <td>14</td>\n",
       "      <td>53</td>\n",
       "      <td>0.0</td>\n",
       "      <td>1009</td>\n",
       "      <td>10</td>\n",
       "    </tr>\n",
       "    <tr>\n",
       "      <th>4</th>\n",
       "      <td>03 01 2018</td>\n",
       "      <td>0</td>\n",
       "      <td>9</td>\n",
       "      <td>7.0</td>\n",
       "      <td>89</td>\n",
       "      <td>19:38:00</td>\n",
       "      <td>09:24:00</td>\n",
       "      <td>08:27:00</td>\n",
       "      <td>17:48:00</td>\n",
       "      <td>6</td>\n",
       "      <td>8</td>\n",
       "      <td>18</td>\n",
       "      <td>79</td>\n",
       "      <td>0.0</td>\n",
       "      <td>1010</td>\n",
       "      <td>10</td>\n",
       "    </tr>\n",
       "  </tbody>\n",
       "</table>\n",
       "</div>"
      ],
      "text/plain": [
       "         Date  Day/Night  Temp  Sun Hour  Moon Illimunation  Moonrise  \\\n",
       "0  01 01 2018          0     4       8.7                 97  17:23:00   \n",
       "1  01 01 2018          1    10       8.7                 97  17:23:00   \n",
       "2  02 01 2018          0     7       7.0                100  18:27:00   \n",
       "3  02 01 2018          1    13       7.0                100  18:27:00   \n",
       "4  03 01 2018          0     9       7.0                 89  19:38:00   \n",
       "\n",
       "    Moonset   Sunrise    Sunset  DewPoint Temp  WindChillC  WindGustKmph  \\\n",
       "0  07:20:00  08:27:00  17:46:00              3           5             6   \n",
       "1  07:20:00  08:27:00  17:46:00              2          11             6   \n",
       "2  08:25:00  08:27:00  17:47:00              3           7            15   \n",
       "3  08:25:00  08:27:00  17:47:00              5          13            14   \n",
       "4  09:24:00  08:27:00  17:48:00              6           8            18   \n",
       "\n",
       "   Humidity  RainMM  Pressure  Visibility  \n",
       "0        89     0.0      1020          10  \n",
       "1        53     0.0      1017          10  \n",
       "2        69     0.0      1014          10  \n",
       "3        53     0.0      1009          10  \n",
       "4        79     0.0      1010          10  "
      ]
     },
     "execution_count": 168,
     "metadata": {},
     "output_type": "execute_result"
    }
   ],
   "source": [
    "df_w.head()"
   ]
  },
  {
   "cell_type": "code",
   "execution_count": 169,
   "metadata": {},
   "outputs": [],
   "source": [
    "df3=pd.merge(df,df_w) # Merging these 2 datasets to become our final dataset"
   ]
  },
  {
   "cell_type": "code",
   "execution_count": 170,
   "metadata": {},
   "outputs": [
    {
     "data": {
      "text/html": [
       "<div>\n",
       "<style scoped>\n",
       "    .dataframe tbody tr th:only-of-type {\n",
       "        vertical-align: middle;\n",
       "    }\n",
       "\n",
       "    .dataframe tbody tr th {\n",
       "        vertical-align: top;\n",
       "    }\n",
       "\n",
       "    .dataframe thead th {\n",
       "        text-align: right;\n",
       "    }\n",
       "</style>\n",
       "<table border=\"1\" class=\"dataframe\">\n",
       "  <thead>\n",
       "    <tr style=\"text-align: right;\">\n",
       "      <th></th>\n",
       "      <th>Date</th>\n",
       "      <th>Time</th>\n",
       "      <th>LV ActivePower (kW)</th>\n",
       "      <th>Wind Speed (m/s)</th>\n",
       "      <th>Theoretical_Power_Curve (KWh)</th>\n",
       "      <th>Wind Direction (°)</th>\n",
       "      <th>Month</th>\n",
       "      <th>Day/Night</th>\n",
       "      <th>Temp</th>\n",
       "      <th>Sun Hour</th>\n",
       "      <th>...</th>\n",
       "      <th>Moonset</th>\n",
       "      <th>Sunrise</th>\n",
       "      <th>Sunset</th>\n",
       "      <th>DewPoint Temp</th>\n",
       "      <th>WindChillC</th>\n",
       "      <th>WindGustKmph</th>\n",
       "      <th>Humidity</th>\n",
       "      <th>RainMM</th>\n",
       "      <th>Pressure</th>\n",
       "      <th>Visibility</th>\n",
       "    </tr>\n",
       "  </thead>\n",
       "  <tbody>\n",
       "    <tr>\n",
       "      <th>0</th>\n",
       "      <td>01 01 2018</td>\n",
       "      <td>00:00:00</td>\n",
       "      <td>380.047791</td>\n",
       "      <td>5.311336</td>\n",
       "      <td>416.328908</td>\n",
       "      <td>259.994904</td>\n",
       "      <td>1</td>\n",
       "      <td>0</td>\n",
       "      <td>4</td>\n",
       "      <td>8.7</td>\n",
       "      <td>...</td>\n",
       "      <td>07:20:00</td>\n",
       "      <td>08:27:00</td>\n",
       "      <td>17:46:00</td>\n",
       "      <td>3</td>\n",
       "      <td>5</td>\n",
       "      <td>6</td>\n",
       "      <td>89</td>\n",
       "      <td>0.0</td>\n",
       "      <td>1020</td>\n",
       "      <td>10</td>\n",
       "    </tr>\n",
       "    <tr>\n",
       "      <th>1</th>\n",
       "      <td>01 01 2018</td>\n",
       "      <td>00:10:00</td>\n",
       "      <td>453.769196</td>\n",
       "      <td>5.672167</td>\n",
       "      <td>519.917511</td>\n",
       "      <td>268.641113</td>\n",
       "      <td>1</td>\n",
       "      <td>0</td>\n",
       "      <td>4</td>\n",
       "      <td>8.7</td>\n",
       "      <td>...</td>\n",
       "      <td>07:20:00</td>\n",
       "      <td>08:27:00</td>\n",
       "      <td>17:46:00</td>\n",
       "      <td>3</td>\n",
       "      <td>5</td>\n",
       "      <td>6</td>\n",
       "      <td>89</td>\n",
       "      <td>0.0</td>\n",
       "      <td>1020</td>\n",
       "      <td>10</td>\n",
       "    </tr>\n",
       "    <tr>\n",
       "      <th>2</th>\n",
       "      <td>01 01 2018</td>\n",
       "      <td>00:20:00</td>\n",
       "      <td>306.376587</td>\n",
       "      <td>5.216037</td>\n",
       "      <td>390.900016</td>\n",
       "      <td>272.564789</td>\n",
       "      <td>1</td>\n",
       "      <td>0</td>\n",
       "      <td>4</td>\n",
       "      <td>8.7</td>\n",
       "      <td>...</td>\n",
       "      <td>07:20:00</td>\n",
       "      <td>08:27:00</td>\n",
       "      <td>17:46:00</td>\n",
       "      <td>3</td>\n",
       "      <td>5</td>\n",
       "      <td>6</td>\n",
       "      <td>89</td>\n",
       "      <td>0.0</td>\n",
       "      <td>1020</td>\n",
       "      <td>10</td>\n",
       "    </tr>\n",
       "    <tr>\n",
       "      <th>3</th>\n",
       "      <td>01 01 2018</td>\n",
       "      <td>00:30:00</td>\n",
       "      <td>419.645904</td>\n",
       "      <td>5.659674</td>\n",
       "      <td>516.127569</td>\n",
       "      <td>271.258087</td>\n",
       "      <td>1</td>\n",
       "      <td>0</td>\n",
       "      <td>4</td>\n",
       "      <td>8.7</td>\n",
       "      <td>...</td>\n",
       "      <td>07:20:00</td>\n",
       "      <td>08:27:00</td>\n",
       "      <td>17:46:00</td>\n",
       "      <td>3</td>\n",
       "      <td>5</td>\n",
       "      <td>6</td>\n",
       "      <td>89</td>\n",
       "      <td>0.0</td>\n",
       "      <td>1020</td>\n",
       "      <td>10</td>\n",
       "    </tr>\n",
       "    <tr>\n",
       "      <th>4</th>\n",
       "      <td>01 01 2018</td>\n",
       "      <td>00:40:00</td>\n",
       "      <td>380.650696</td>\n",
       "      <td>5.577941</td>\n",
       "      <td>491.702972</td>\n",
       "      <td>265.674286</td>\n",
       "      <td>1</td>\n",
       "      <td>0</td>\n",
       "      <td>4</td>\n",
       "      <td>8.7</td>\n",
       "      <td>...</td>\n",
       "      <td>07:20:00</td>\n",
       "      <td>08:27:00</td>\n",
       "      <td>17:46:00</td>\n",
       "      <td>3</td>\n",
       "      <td>5</td>\n",
       "      <td>6</td>\n",
       "      <td>89</td>\n",
       "      <td>0.0</td>\n",
       "      <td>1020</td>\n",
       "      <td>10</td>\n",
       "    </tr>\n",
       "  </tbody>\n",
       "</table>\n",
       "<p>5 rows × 22 columns</p>\n",
       "</div>"
      ],
      "text/plain": [
       "         Date      Time  LV ActivePower (kW)  Wind Speed (m/s)  \\\n",
       "0  01 01 2018  00:00:00           380.047791          5.311336   \n",
       "1  01 01 2018  00:10:00           453.769196          5.672167   \n",
       "2  01 01 2018  00:20:00           306.376587          5.216037   \n",
       "3  01 01 2018  00:30:00           419.645904          5.659674   \n",
       "4  01 01 2018  00:40:00           380.650696          5.577941   \n",
       "\n",
       "   Theoretical_Power_Curve (KWh)  Wind Direction (°)  Month  Day/Night  Temp  \\\n",
       "0                     416.328908          259.994904      1          0     4   \n",
       "1                     519.917511          268.641113      1          0     4   \n",
       "2                     390.900016          272.564789      1          0     4   \n",
       "3                     516.127569          271.258087      1          0     4   \n",
       "4                     491.702972          265.674286      1          0     4   \n",
       "\n",
       "   Sun Hour     ...       Moonset   Sunrise    Sunset DewPoint Temp  \\\n",
       "0       8.7     ...      07:20:00  08:27:00  17:46:00             3   \n",
       "1       8.7     ...      07:20:00  08:27:00  17:46:00             3   \n",
       "2       8.7     ...      07:20:00  08:27:00  17:46:00             3   \n",
       "3       8.7     ...      07:20:00  08:27:00  17:46:00             3   \n",
       "4       8.7     ...      07:20:00  08:27:00  17:46:00             3   \n",
       "\n",
       "  WindChillC  WindGustKmph  Humidity  RainMM  Pressure  Visibility  \n",
       "0          5             6        89     0.0      1020          10  \n",
       "1          5             6        89     0.0      1020          10  \n",
       "2          5             6        89     0.0      1020          10  \n",
       "3          5             6        89     0.0      1020          10  \n",
       "4          5             6        89     0.0      1020          10  \n",
       "\n",
       "[5 rows x 22 columns]"
      ]
     },
     "execution_count": 170,
     "metadata": {},
     "output_type": "execute_result"
    }
   ],
   "source": [
    "df3.head()"
   ]
  },
  {
   "cell_type": "code",
   "execution_count": 76,
   "metadata": {},
   "outputs": [],
   "source": [
    "#Recording Merged data to an excel file\n",
    "from openpyxl import Workbook, load_workbook\n",
    "from openpyxl.drawing.image import Image\n",
    "from openpyxl.utils.dataframe import dataframe_to_rows\n",
    "\n",
    "# Create new workbook\n",
    "wb = Workbook()\n",
    "wb.save(\"C:/Users/Furkan/Desktop/Data.xlsx\")\n",
    "\n",
    "sheet1 = wb.create_sheet('sheet1',0)\n",
    "\n"
   ]
  },
  {
   "cell_type": "code",
   "execution_count": 77,
   "metadata": {},
   "outputs": [],
   "source": [
    "# Activate worksheet to write dataframe\n",
    "active = wb['sheet1']\n",
    "\n",
    "# Write dataframe to active worksheet\n",
    "for x in dataframe_to_rows(df3):\n",
    "    active.append(x)\n",
    "    \n",
    "# Save workbook to write\n",
    "wb.save(\"C:/Users/Furkan/Desktop/Data.xlsx\")"
   ]
  },
  {
   "cell_type": "code",
   "execution_count": 171,
   "metadata": {},
   "outputs": [
    {
     "name": "stdout",
     "output_type": "stream",
     "text": [
      "<class 'pandas.core.frame.DataFrame'>\n",
      "Int64Index: 50530 entries, 0 to 50529\n",
      "Data columns (total 22 columns):\n",
      "Date                             50530 non-null object\n",
      "Time                             50530 non-null object\n",
      "LV ActivePower (kW)              50530 non-null float64\n",
      "Wind Speed (m/s)                 50530 non-null float64\n",
      "Theoretical_Power_Curve (KWh)    50530 non-null float64\n",
      "Wind Direction (°)               50530 non-null float64\n",
      "Month                            50530 non-null int64\n",
      "Day/Night                        50530 non-null int64\n",
      "Temp                             50530 non-null int64\n",
      "Sun Hour                         50530 non-null float64\n",
      "Moon Illimunation                50530 non-null int64\n",
      "Moonrise                         50530 non-null object\n",
      "Moonset                          50530 non-null object\n",
      "Sunrise                          50530 non-null object\n",
      "Sunset                           50530 non-null object\n",
      "DewPoint Temp                    50530 non-null int64\n",
      "WindChillC                       50530 non-null int64\n",
      "WindGustKmph                     50530 non-null int64\n",
      "Humidity                         50530 non-null int64\n",
      "RainMM                           50530 non-null float64\n",
      "Pressure                         50530 non-null int64\n",
      "Visibility                       50530 non-null int64\n",
      "dtypes: float64(6), int64(10), object(6)\n",
      "memory usage: 8.9+ MB\n"
     ]
    }
   ],
   "source": [
    "df3.info() #Summary of the dataset"
   ]
  },
  {
   "cell_type": "code",
   "execution_count": 103,
   "metadata": {},
   "outputs": [],
   "source": [
    "df3.Month=pd.Categorical(df3.Month)                #Before dividing the dataset numeric and categorical I define categoric variables\n",
    "df3[\"Day/Night\"]=pd.Categorical(df3[\"Day/Night\"])\n",
    "df3.Date=pd.Categorical(df3.Date)\n",
    "df3.Time=pd.Categorical(df3.Time)\n",
    "df3.Moonrise=pd.Categorical(df3.Moonrise)\n",
    "df3.Moonset=pd.Categorical(df3.Moonset)\n",
    "df3.Sunrise=pd.Categorical(df3.Sunrise)\n",
    "df3.Sunset=pd.Categorical(df3.Sunset)\n"
   ]
  },
  {
   "cell_type": "code",
   "execution_count": 104,
   "metadata": {},
   "outputs": [],
   "source": [
    "df_cat=df3.select_dtypes([\"category\"]) #Dividing data into 2 parts as numeric and non-numeric"
   ]
  },
  {
   "cell_type": "code",
   "execution_count": 105,
   "metadata": {},
   "outputs": [
    {
     "data": {
      "text/html": [
       "<div>\n",
       "<style scoped>\n",
       "    .dataframe tbody tr th:only-of-type {\n",
       "        vertical-align: middle;\n",
       "    }\n",
       "\n",
       "    .dataframe tbody tr th {\n",
       "        vertical-align: top;\n",
       "    }\n",
       "\n",
       "    .dataframe thead th {\n",
       "        text-align: right;\n",
       "    }\n",
       "</style>\n",
       "<table border=\"1\" class=\"dataframe\">\n",
       "  <thead>\n",
       "    <tr style=\"text-align: right;\">\n",
       "      <th></th>\n",
       "      <th>Date</th>\n",
       "      <th>Time</th>\n",
       "      <th>Month</th>\n",
       "      <th>Day/Night</th>\n",
       "      <th>Moonrise</th>\n",
       "      <th>Moonset</th>\n",
       "      <th>Sunrise</th>\n",
       "      <th>Sunset</th>\n",
       "    </tr>\n",
       "  </thead>\n",
       "  <tbody>\n",
       "    <tr>\n",
       "      <th>0</th>\n",
       "      <td>01 01 2018</td>\n",
       "      <td>00:00:00</td>\n",
       "      <td>1</td>\n",
       "      <td>0</td>\n",
       "      <td>17:23:00</td>\n",
       "      <td>07:20:00</td>\n",
       "      <td>08:27:00</td>\n",
       "      <td>17:46:00</td>\n",
       "    </tr>\n",
       "    <tr>\n",
       "      <th>1</th>\n",
       "      <td>01 01 2018</td>\n",
       "      <td>00:10:00</td>\n",
       "      <td>1</td>\n",
       "      <td>0</td>\n",
       "      <td>17:23:00</td>\n",
       "      <td>07:20:00</td>\n",
       "      <td>08:27:00</td>\n",
       "      <td>17:46:00</td>\n",
       "    </tr>\n",
       "    <tr>\n",
       "      <th>2</th>\n",
       "      <td>01 01 2018</td>\n",
       "      <td>00:20:00</td>\n",
       "      <td>1</td>\n",
       "      <td>0</td>\n",
       "      <td>17:23:00</td>\n",
       "      <td>07:20:00</td>\n",
       "      <td>08:27:00</td>\n",
       "      <td>17:46:00</td>\n",
       "    </tr>\n",
       "    <tr>\n",
       "      <th>3</th>\n",
       "      <td>01 01 2018</td>\n",
       "      <td>00:30:00</td>\n",
       "      <td>1</td>\n",
       "      <td>0</td>\n",
       "      <td>17:23:00</td>\n",
       "      <td>07:20:00</td>\n",
       "      <td>08:27:00</td>\n",
       "      <td>17:46:00</td>\n",
       "    </tr>\n",
       "    <tr>\n",
       "      <th>4</th>\n",
       "      <td>01 01 2018</td>\n",
       "      <td>00:40:00</td>\n",
       "      <td>1</td>\n",
       "      <td>0</td>\n",
       "      <td>17:23:00</td>\n",
       "      <td>07:20:00</td>\n",
       "      <td>08:27:00</td>\n",
       "      <td>17:46:00</td>\n",
       "    </tr>\n",
       "  </tbody>\n",
       "</table>\n",
       "</div>"
      ],
      "text/plain": [
       "         Date      Time Month Day/Night  Moonrise   Moonset   Sunrise  \\\n",
       "0  01 01 2018  00:00:00     1         0  17:23:00  07:20:00  08:27:00   \n",
       "1  01 01 2018  00:10:00     1         0  17:23:00  07:20:00  08:27:00   \n",
       "2  01 01 2018  00:20:00     1         0  17:23:00  07:20:00  08:27:00   \n",
       "3  01 01 2018  00:30:00     1         0  17:23:00  07:20:00  08:27:00   \n",
       "4  01 01 2018  00:40:00     1         0  17:23:00  07:20:00  08:27:00   \n",
       "\n",
       "     Sunset  \n",
       "0  17:46:00  \n",
       "1  17:46:00  \n",
       "2  17:46:00  \n",
       "3  17:46:00  \n",
       "4  17:46:00  "
      ]
     },
     "execution_count": 105,
     "metadata": {},
     "output_type": "execute_result"
    }
   ],
   "source": [
    "df_cat.head() #Non-numeric data"
   ]
  },
  {
   "cell_type": "code",
   "execution_count": 109,
   "metadata": {},
   "outputs": [],
   "source": [
    "df_numeric=df3.drop(df_cat.columns,axis=1) "
   ]
  },
  {
   "cell_type": "code",
   "execution_count": 110,
   "metadata": {},
   "outputs": [
    {
     "data": {
      "text/html": [
       "<div>\n",
       "<style scoped>\n",
       "    .dataframe tbody tr th:only-of-type {\n",
       "        vertical-align: middle;\n",
       "    }\n",
       "\n",
       "    .dataframe tbody tr th {\n",
       "        vertical-align: top;\n",
       "    }\n",
       "\n",
       "    .dataframe thead th {\n",
       "        text-align: right;\n",
       "    }\n",
       "</style>\n",
       "<table border=\"1\" class=\"dataframe\">\n",
       "  <thead>\n",
       "    <tr style=\"text-align: right;\">\n",
       "      <th></th>\n",
       "      <th>LV ActivePower (kW)</th>\n",
       "      <th>Wind Speed (m/s)</th>\n",
       "      <th>Theoretical_Power_Curve (KWh)</th>\n",
       "      <th>Wind Direction (°)</th>\n",
       "      <th>Temp</th>\n",
       "      <th>Sun Hour</th>\n",
       "      <th>Moon Illimunation</th>\n",
       "      <th>DewPoint Temp</th>\n",
       "      <th>WindChillC</th>\n",
       "      <th>WindGustKmph</th>\n",
       "      <th>CloudCover</th>\n",
       "      <th>Humidity</th>\n",
       "      <th>RainMM</th>\n",
       "      <th>Pressure</th>\n",
       "      <th>Visibility</th>\n",
       "    </tr>\n",
       "  </thead>\n",
       "  <tbody>\n",
       "    <tr>\n",
       "      <th>0</th>\n",
       "      <td>380.047791</td>\n",
       "      <td>5.311336</td>\n",
       "      <td>416.328908</td>\n",
       "      <td>259.994904</td>\n",
       "      <td>4</td>\n",
       "      <td>8.7</td>\n",
       "      <td>97</td>\n",
       "      <td>3</td>\n",
       "      <td>5</td>\n",
       "      <td>6</td>\n",
       "      <td>32</td>\n",
       "      <td>89</td>\n",
       "      <td>0.0</td>\n",
       "      <td>1020</td>\n",
       "      <td>10</td>\n",
       "    </tr>\n",
       "    <tr>\n",
       "      <th>1</th>\n",
       "      <td>453.769196</td>\n",
       "      <td>5.672167</td>\n",
       "      <td>519.917511</td>\n",
       "      <td>268.641113</td>\n",
       "      <td>4</td>\n",
       "      <td>8.7</td>\n",
       "      <td>97</td>\n",
       "      <td>3</td>\n",
       "      <td>5</td>\n",
       "      <td>6</td>\n",
       "      <td>32</td>\n",
       "      <td>89</td>\n",
       "      <td>0.0</td>\n",
       "      <td>1020</td>\n",
       "      <td>10</td>\n",
       "    </tr>\n",
       "    <tr>\n",
       "      <th>2</th>\n",
       "      <td>306.376587</td>\n",
       "      <td>5.216037</td>\n",
       "      <td>390.900016</td>\n",
       "      <td>272.564789</td>\n",
       "      <td>4</td>\n",
       "      <td>8.7</td>\n",
       "      <td>97</td>\n",
       "      <td>3</td>\n",
       "      <td>5</td>\n",
       "      <td>6</td>\n",
       "      <td>32</td>\n",
       "      <td>89</td>\n",
       "      <td>0.0</td>\n",
       "      <td>1020</td>\n",
       "      <td>10</td>\n",
       "    </tr>\n",
       "    <tr>\n",
       "      <th>3</th>\n",
       "      <td>419.645904</td>\n",
       "      <td>5.659674</td>\n",
       "      <td>516.127569</td>\n",
       "      <td>271.258087</td>\n",
       "      <td>4</td>\n",
       "      <td>8.7</td>\n",
       "      <td>97</td>\n",
       "      <td>3</td>\n",
       "      <td>5</td>\n",
       "      <td>6</td>\n",
       "      <td>32</td>\n",
       "      <td>89</td>\n",
       "      <td>0.0</td>\n",
       "      <td>1020</td>\n",
       "      <td>10</td>\n",
       "    </tr>\n",
       "    <tr>\n",
       "      <th>4</th>\n",
       "      <td>380.650696</td>\n",
       "      <td>5.577941</td>\n",
       "      <td>491.702972</td>\n",
       "      <td>265.674286</td>\n",
       "      <td>4</td>\n",
       "      <td>8.7</td>\n",
       "      <td>97</td>\n",
       "      <td>3</td>\n",
       "      <td>5</td>\n",
       "      <td>6</td>\n",
       "      <td>32</td>\n",
       "      <td>89</td>\n",
       "      <td>0.0</td>\n",
       "      <td>1020</td>\n",
       "      <td>10</td>\n",
       "    </tr>\n",
       "  </tbody>\n",
       "</table>\n",
       "</div>"
      ],
      "text/plain": [
       "   LV ActivePower (kW)  Wind Speed (m/s)  Theoretical_Power_Curve (KWh)  \\\n",
       "0           380.047791          5.311336                     416.328908   \n",
       "1           453.769196          5.672167                     519.917511   \n",
       "2           306.376587          5.216037                     390.900016   \n",
       "3           419.645904          5.659674                     516.127569   \n",
       "4           380.650696          5.577941                     491.702972   \n",
       "\n",
       "   Wind Direction (°)  Temp  Sun Hour  Moon Illimunation  DewPoint Temp  \\\n",
       "0          259.994904     4       8.7                 97              3   \n",
       "1          268.641113     4       8.7                 97              3   \n",
       "2          272.564789     4       8.7                 97              3   \n",
       "3          271.258087     4       8.7                 97              3   \n",
       "4          265.674286     4       8.7                 97              3   \n",
       "\n",
       "   WindChillC  WindGustKmph  CloudCover  Humidity  RainMM  Pressure  \\\n",
       "0           5             6          32        89     0.0      1020   \n",
       "1           5             6          32        89     0.0      1020   \n",
       "2           5             6          32        89     0.0      1020   \n",
       "3           5             6          32        89     0.0      1020   \n",
       "4           5             6          32        89     0.0      1020   \n",
       "\n",
       "   Visibility  \n",
       "0          10  \n",
       "1          10  \n",
       "2          10  \n",
       "3          10  \n",
       "4          10  "
      ]
     },
     "execution_count": 110,
     "metadata": {},
     "output_type": "execute_result"
    }
   ],
   "source": [
    "df_numeric.head()  #Numeric Data"
   ]
  },
  {
   "cell_type": "code",
   "execution_count": 182,
   "metadata": {},
   "outputs": [
    {
     "data": {
      "text/html": [
       "<div>\n",
       "<style scoped>\n",
       "    .dataframe tbody tr th:only-of-type {\n",
       "        vertical-align: middle;\n",
       "    }\n",
       "\n",
       "    .dataframe tbody tr th {\n",
       "        vertical-align: top;\n",
       "    }\n",
       "\n",
       "    .dataframe thead th {\n",
       "        text-align: right;\n",
       "    }\n",
       "</style>\n",
       "<table border=\"1\" class=\"dataframe\">\n",
       "  <thead>\n",
       "    <tr style=\"text-align: right;\">\n",
       "      <th></th>\n",
       "      <th>mean</th>\n",
       "      <th>std</th>\n",
       "      <th>count</th>\n",
       "      <th>min</th>\n",
       "      <th>max</th>\n",
       "      <th>median</th>\n",
       "    </tr>\n",
       "  </thead>\n",
       "  <tbody>\n",
       "    <tr>\n",
       "      <th>LV ActivePower (kW)</th>\n",
       "      <td>1307.684332</td>\n",
       "      <td>1312.459242</td>\n",
       "      <td>50530.0</td>\n",
       "      <td>-2.471405</td>\n",
       "      <td>3618.732910</td>\n",
       "      <td>825.838074</td>\n",
       "    </tr>\n",
       "    <tr>\n",
       "      <th>Wind Speed (m/s)</th>\n",
       "      <td>7.557952</td>\n",
       "      <td>4.227166</td>\n",
       "      <td>50530.0</td>\n",
       "      <td>0.000000</td>\n",
       "      <td>25.206011</td>\n",
       "      <td>7.104594</td>\n",
       "    </tr>\n",
       "    <tr>\n",
       "      <th>Theoretical_Power_Curve (KWh)</th>\n",
       "      <td>1492.175463</td>\n",
       "      <td>1368.018238</td>\n",
       "      <td>50530.0</td>\n",
       "      <td>0.000000</td>\n",
       "      <td>3600.000000</td>\n",
       "      <td>1063.776282</td>\n",
       "    </tr>\n",
       "    <tr>\n",
       "      <th>Wind Direction (°)</th>\n",
       "      <td>123.687559</td>\n",
       "      <td>93.443736</td>\n",
       "      <td>50530.0</td>\n",
       "      <td>0.000000</td>\n",
       "      <td>359.997589</td>\n",
       "      <td>73.712978</td>\n",
       "    </tr>\n",
       "    <tr>\n",
       "      <th>Temp</th>\n",
       "      <td>15.956818</td>\n",
       "      <td>7.478934</td>\n",
       "      <td>50530.0</td>\n",
       "      <td>-1.000000</td>\n",
       "      <td>32.000000</td>\n",
       "      <td>16.000000</td>\n",
       "    </tr>\n",
       "    <tr>\n",
       "      <th>Sun Hour</th>\n",
       "      <td>10.394415</td>\n",
       "      <td>3.198427</td>\n",
       "      <td>50530.0</td>\n",
       "      <td>3.400000</td>\n",
       "      <td>14.500000</td>\n",
       "      <td>11.600000</td>\n",
       "    </tr>\n",
       "    <tr>\n",
       "      <th>Moon Illimunation</th>\n",
       "      <td>46.463131</td>\n",
       "      <td>31.548401</td>\n",
       "      <td>50530.0</td>\n",
       "      <td>0.000000</td>\n",
       "      <td>100.000000</td>\n",
       "      <td>46.000000</td>\n",
       "    </tr>\n",
       "    <tr>\n",
       "      <th>DewPoint Temp</th>\n",
       "      <td>10.533089</td>\n",
       "      <td>5.966731</td>\n",
       "      <td>50530.0</td>\n",
       "      <td>-5.000000</td>\n",
       "      <td>22.000000</td>\n",
       "      <td>11.000000</td>\n",
       "    </tr>\n",
       "    <tr>\n",
       "      <th>WindChillC</th>\n",
       "      <td>15.989234</td>\n",
       "      <td>8.341774</td>\n",
       "      <td>50530.0</td>\n",
       "      <td>-5.000000</td>\n",
       "      <td>32.000000</td>\n",
       "      <td>16.000000</td>\n",
       "    </tr>\n",
       "    <tr>\n",
       "      <th>WindGustKmph</th>\n",
       "      <td>14.597645</td>\n",
       "      <td>8.020789</td>\n",
       "      <td>50530.0</td>\n",
       "      <td>0.000000</td>\n",
       "      <td>52.000000</td>\n",
       "      <td>13.000000</td>\n",
       "    </tr>\n",
       "    <tr>\n",
       "      <th>CloudCover</th>\n",
       "      <td>35.742668</td>\n",
       "      <td>34.079858</td>\n",
       "      <td>50530.0</td>\n",
       "      <td>0.000000</td>\n",
       "      <td>100.000000</td>\n",
       "      <td>22.000000</td>\n",
       "    </tr>\n",
       "    <tr>\n",
       "      <th>Humidity</th>\n",
       "      <td>69.887592</td>\n",
       "      <td>16.452907</td>\n",
       "      <td>50530.0</td>\n",
       "      <td>31.000000</td>\n",
       "      <td>97.000000</td>\n",
       "      <td>72.000000</td>\n",
       "    </tr>\n",
       "    <tr>\n",
       "      <th>RainMM</th>\n",
       "      <td>0.004987</td>\n",
       "      <td>0.132024</td>\n",
       "      <td>50530.0</td>\n",
       "      <td>0.000000</td>\n",
       "      <td>3.500000</td>\n",
       "      <td>0.000000</td>\n",
       "    </tr>\n",
       "    <tr>\n",
       "      <th>Pressure</th>\n",
       "      <td>1014.676727</td>\n",
       "      <td>6.112598</td>\n",
       "      <td>50530.0</td>\n",
       "      <td>993.000000</td>\n",
       "      <td>1032.000000</td>\n",
       "      <td>1014.000000</td>\n",
       "    </tr>\n",
       "    <tr>\n",
       "      <th>Visibility</th>\n",
       "      <td>9.860400</td>\n",
       "      <td>0.987456</td>\n",
       "      <td>50530.0</td>\n",
       "      <td>0.000000</td>\n",
       "      <td>10.000000</td>\n",
       "      <td>10.000000</td>\n",
       "    </tr>\n",
       "  </tbody>\n",
       "</table>\n",
       "</div>"
      ],
      "text/plain": [
       "                                      mean          std    count         min  \\\n",
       "LV ActivePower (kW)            1307.684332  1312.459242  50530.0   -2.471405   \n",
       "Wind Speed (m/s)                  7.557952     4.227166  50530.0    0.000000   \n",
       "Theoretical_Power_Curve (KWh)  1492.175463  1368.018238  50530.0    0.000000   \n",
       "Wind Direction (°)              123.687559    93.443736  50530.0    0.000000   \n",
       "Temp                             15.956818     7.478934  50530.0   -1.000000   \n",
       "Sun Hour                         10.394415     3.198427  50530.0    3.400000   \n",
       "Moon Illimunation                46.463131    31.548401  50530.0    0.000000   \n",
       "DewPoint Temp                    10.533089     5.966731  50530.0   -5.000000   \n",
       "WindChillC                       15.989234     8.341774  50530.0   -5.000000   \n",
       "WindGustKmph                     14.597645     8.020789  50530.0    0.000000   \n",
       "CloudCover                       35.742668    34.079858  50530.0    0.000000   \n",
       "Humidity                         69.887592    16.452907  50530.0   31.000000   \n",
       "RainMM                            0.004987     0.132024  50530.0    0.000000   \n",
       "Pressure                       1014.676727     6.112598  50530.0  993.000000   \n",
       "Visibility                        9.860400     0.987456  50530.0    0.000000   \n",
       "\n",
       "                                       max       median  \n",
       "LV ActivePower (kW)            3618.732910   825.838074  \n",
       "Wind Speed (m/s)                 25.206011     7.104594  \n",
       "Theoretical_Power_Curve (KWh)  3600.000000  1063.776282  \n",
       "Wind Direction (°)              359.997589    73.712978  \n",
       "Temp                             32.000000    16.000000  \n",
       "Sun Hour                         14.500000    11.600000  \n",
       "Moon Illimunation               100.000000    46.000000  \n",
       "DewPoint Temp                    22.000000    11.000000  \n",
       "WindChillC                       32.000000    16.000000  \n",
       "WindGustKmph                     52.000000    13.000000  \n",
       "CloudCover                      100.000000    22.000000  \n",
       "Humidity                         97.000000    72.000000  \n",
       "RainMM                            3.500000     0.000000  \n",
       "Pressure                       1032.000000  1014.000000  \n",
       "Visibility                       10.000000    10.000000  "
      ]
     },
     "execution_count": 182,
     "metadata": {},
     "output_type": "execute_result"
    }
   ],
   "source": [
    "df_numeric.aggregate([\"mean\",\"std\",\"count\",\"min\",\"max\",\"median\"]).T #Descriptive statatistics of numeric variables"
   ]
  },
  {
   "cell_type": "code",
   "execution_count": 116,
   "metadata": {},
   "outputs": [],
   "source": [
    "#Yorumla bunları raporda std sapma mean ve max mine göre basınç ve visibility çok az değişiyo mesela"
   ]
  },
  {
   "cell_type": "code",
   "execution_count": 117,
   "metadata": {},
   "outputs": [
    {
     "data": {
      "text/html": [
       "<div>\n",
       "<style scoped>\n",
       "    .dataframe tbody tr th:only-of-type {\n",
       "        vertical-align: middle;\n",
       "    }\n",
       "\n",
       "    .dataframe tbody tr th {\n",
       "        vertical-align: top;\n",
       "    }\n",
       "\n",
       "    .dataframe thead th {\n",
       "        text-align: right;\n",
       "    }\n",
       "</style>\n",
       "<table border=\"1\" class=\"dataframe\">\n",
       "  <thead>\n",
       "    <tr style=\"text-align: right;\">\n",
       "      <th></th>\n",
       "      <th>Date</th>\n",
       "      <th>Time</th>\n",
       "      <th>Month</th>\n",
       "      <th>Day/Night</th>\n",
       "      <th>Moonrise</th>\n",
       "      <th>Moonset</th>\n",
       "      <th>Sunrise</th>\n",
       "      <th>Sunset</th>\n",
       "    </tr>\n",
       "  </thead>\n",
       "  <tbody>\n",
       "    <tr>\n",
       "      <th>0</th>\n",
       "      <td>01 01 2018</td>\n",
       "      <td>00:00:00</td>\n",
       "      <td>1</td>\n",
       "      <td>0</td>\n",
       "      <td>17:23:00</td>\n",
       "      <td>07:20:00</td>\n",
       "      <td>08:27:00</td>\n",
       "      <td>17:46:00</td>\n",
       "    </tr>\n",
       "    <tr>\n",
       "      <th>1</th>\n",
       "      <td>01 01 2018</td>\n",
       "      <td>00:10:00</td>\n",
       "      <td>1</td>\n",
       "      <td>0</td>\n",
       "      <td>17:23:00</td>\n",
       "      <td>07:20:00</td>\n",
       "      <td>08:27:00</td>\n",
       "      <td>17:46:00</td>\n",
       "    </tr>\n",
       "    <tr>\n",
       "      <th>2</th>\n",
       "      <td>01 01 2018</td>\n",
       "      <td>00:20:00</td>\n",
       "      <td>1</td>\n",
       "      <td>0</td>\n",
       "      <td>17:23:00</td>\n",
       "      <td>07:20:00</td>\n",
       "      <td>08:27:00</td>\n",
       "      <td>17:46:00</td>\n",
       "    </tr>\n",
       "    <tr>\n",
       "      <th>3</th>\n",
       "      <td>01 01 2018</td>\n",
       "      <td>00:30:00</td>\n",
       "      <td>1</td>\n",
       "      <td>0</td>\n",
       "      <td>17:23:00</td>\n",
       "      <td>07:20:00</td>\n",
       "      <td>08:27:00</td>\n",
       "      <td>17:46:00</td>\n",
       "    </tr>\n",
       "    <tr>\n",
       "      <th>4</th>\n",
       "      <td>01 01 2018</td>\n",
       "      <td>00:40:00</td>\n",
       "      <td>1</td>\n",
       "      <td>0</td>\n",
       "      <td>17:23:00</td>\n",
       "      <td>07:20:00</td>\n",
       "      <td>08:27:00</td>\n",
       "      <td>17:46:00</td>\n",
       "    </tr>\n",
       "  </tbody>\n",
       "</table>\n",
       "</div>"
      ],
      "text/plain": [
       "         Date      Time Month Day/Night  Moonrise   Moonset   Sunrise  \\\n",
       "0  01 01 2018  00:00:00     1         0  17:23:00  07:20:00  08:27:00   \n",
       "1  01 01 2018  00:10:00     1         0  17:23:00  07:20:00  08:27:00   \n",
       "2  01 01 2018  00:20:00     1         0  17:23:00  07:20:00  08:27:00   \n",
       "3  01 01 2018  00:30:00     1         0  17:23:00  07:20:00  08:27:00   \n",
       "4  01 01 2018  00:40:00     1         0  17:23:00  07:20:00  08:27:00   \n",
       "\n",
       "     Sunset  \n",
       "0  17:46:00  \n",
       "1  17:46:00  \n",
       "2  17:46:00  \n",
       "3  17:46:00  \n",
       "4  17:46:00  "
      ]
     },
     "execution_count": 117,
     "metadata": {},
     "output_type": "execute_result"
    }
   ],
   "source": [
    "df_cat.head()"
   ]
  },
  {
   "cell_type": "code",
   "execution_count": 114,
   "metadata": {},
   "outputs": [
    {
     "data": {
      "text/plain": [
       "31 12 2018    144\n",
       "10 12 2018    144\n",
       "11 02 2018    144\n",
       "11 03 2018    144\n",
       "11 04 2018    144\n",
       "Name: Date, dtype: int64"
      ]
     },
     "execution_count": 114,
     "metadata": {},
     "output_type": "execute_result"
    }
   ],
   "source": [
    "df_cat.Date.value_counts().head() # Her gün yapılan gözlem sayısı eşit değil aslında her gün 144 gözlem olmalıydı "
   ]
  },
  {
   "cell_type": "code",
   "execution_count": 115,
   "metadata": {},
   "outputs": [
    {
     "name": "stdout",
     "output_type": "stream",
     "text": [
      "Min Date is: 02 10 2018 Min Freq: 11\n",
      "Max Date is: 31 12 2018 Max Freq: 144\n"
     ]
    }
   ],
   "source": [
    "print(\"Min Date is:\",df_cat.Date.value_counts().idxmin(),\"Min Freq:\",df_cat.Date.value_counts().min())\n",
    "print(\"Max Date is:\",df_cat.Date.value_counts().idxmax(),\"Max Freq:\",df_cat.Date.value_counts().max())"
   ]
  },
  {
   "cell_type": "code",
   "execution_count": 118,
   "metadata": {},
   "outputs": [
    {
     "data": {
      "text/plain": [
       "16:50:00    355\n",
       "17:00:00    355\n",
       "18:10:00    355\n",
       "16:30:00    355\n",
       "16:40:00    355\n",
       "Name: Time, dtype: int64"
      ]
     },
     "execution_count": 118,
     "metadata": {},
     "output_type": "execute_result"
    }
   ],
   "source": [
    "df_cat.Time.value_counts().head() # Her saatten 365tane yok demek ki her gün her saatte ölçüm yapılamamış veya datasette yok.\n",
    "                           #max değerimiz 355 hiçbir saat için 365 yok"
   ]
  },
  {
   "cell_type": "code",
   "execution_count": 119,
   "metadata": {},
   "outputs": [
    {
     "name": "stdout",
     "output_type": "stream",
     "text": [
      "Min Time is: 11:50:00 Min Freq: 344\n",
      "Max Time is: 16:50:00 Max Freq: 355\n"
     ]
    }
   ],
   "source": [
    "print(\"Min Time is:\",df_cat.Time.value_counts().idxmin(),\"Min Freq:\",df_cat.Time.value_counts().min())\n",
    "print(\"Max Time is:\",df_cat.Time.value_counts().idxmax(),\"Max Freq:\",df_cat.Time.value_counts().max())"
   ]
  },
  {
   "cell_type": "code",
   "execution_count": 120,
   "metadata": {},
   "outputs": [
    {
     "data": {
      "text/plain": [
       "7     4464\n",
       "3     4463\n",
       "5     4449\n",
       "12    4447\n",
       "8     4425\n",
       "Name: Month, dtype: int64"
      ]
     },
     "execution_count": 120,
     "metadata": {},
     "output_type": "execute_result"
    }
   ],
   "source": [
    "df_cat.Month.value_counts().head() #Her aydaki gün sayısı farklı olduğu için ve bazı günlerdeki eksik gözlemlerden dolayı eşit sayıda\n",
    "                            # gözlem yine yok"
   ]
  },
  {
   "cell_type": "code",
   "execution_count": 121,
   "metadata": {},
   "outputs": [
    {
     "name": "stdout",
     "output_type": "stream",
     "text": [
      "Min Month is: 11 Min Freq: 3800\n",
      "Max Month is: 7 Max Freq: 4464\n"
     ]
    }
   ],
   "source": [
    "print(\"Min Month is:\",df_cat.Month.value_counts().idxmin(),\"Min Freq:\",df_cat.Month.value_counts().min())\n",
    "print(\"Max Month is:\",df_cat.Month.value_counts().idxmax(),\"Max Freq:\",df_cat.Month.value_counts().max())"
   ]
  },
  {
   "cell_type": "code",
   "execution_count": 122,
   "metadata": {},
   "outputs": [
    {
     "data": {
      "text/plain": [
       "1    25358\n",
       "0    25172\n",
       "Name: Day/Night, dtype: int64"
      ]
     },
     "execution_count": 122,
     "metadata": {},
     "output_type": "execute_result"
    }
   ],
   "source": [
    "df_cat[\"Day/Night\"].value_counts().head() # Yine muhtemelen eksik ölçümlerden dolayı gündüz ve gece sayısı eşit değil\n",
    "                                   #Günü tam ortadan böldüğü için aslında eşit olmalı fakat oldukça fazla  fark var\n",
    "                                 #Zaten 2 değer olduğu için min: 0 yani gece 25172 max 1: yani gündüz 25358\n"
   ]
  },
  {
   "cell_type": "code",
   "execution_count": 125,
   "metadata": {},
   "outputs": [
    {
     "data": {
      "text/plain": [
       "No moonrise    1726\n",
       "04:20:00        288\n",
       "13:58:00        288\n",
       "14:01:00        288\n",
       "21:26:00        288\n",
       "Name: Moonrise, dtype: int64"
      ]
     },
     "execution_count": 125,
     "metadata": {},
     "output_type": "execute_result"
    }
   ],
   "source": [
    "df_cat[\"Moonrise\"].value_counts().head() # Even it is not a real categoric variable but just hours of moonrise there are some highly\n",
    "                                  # often hours for moon to rise.But the most often case is no moonrise"
   ]
  },
  {
   "cell_type": "code",
   "execution_count": 127,
   "metadata": {},
   "outputs": [
    {
     "name": "stdout",
     "output_type": "stream",
     "text": [
      "Min Moonrise is: 13:30:00 Min Freq: 39\n",
      "Max Moonrise is: No moonrise Max Freq: 1726\n"
     ]
    }
   ],
   "source": [
    "print(\"Min Moonrise is:\",df_cat.Moonrise.value_counts().idxmin(),\"Min Freq:\",df_cat.Moonrise.value_counts().min())\n",
    "print(\"Max Moonrise is:\",df_cat.Moonrise.value_counts().idxmax(),\"Max Freq:\",df_cat.Moonrise.value_counts().max())"
   ]
  },
  {
   "cell_type": "code",
   "execution_count": 128,
   "metadata": {},
   "outputs": [
    {
     "data": {
      "text/plain": [
       "No moonset    1728\n",
       "00:27:00       432\n",
       "12:07:00       430\n",
       "15:09:00       288\n",
       "13:24:00       288\n",
       "Name: Moonset, dtype: int64"
      ]
     },
     "execution_count": 128,
     "metadata": {},
     "output_type": "execute_result"
    }
   ],
   "source": [
    "df_cat[\"Moonset\"].value_counts().head() # Even it is not a real categoric variable but just hours of moonset there are some highly\n",
    "                                  # often hours for moon to set. Similarly most frequent is no moonset."
   ]
  },
  {
   "cell_type": "code",
   "execution_count": 129,
   "metadata": {},
   "outputs": [
    {
     "name": "stdout",
     "output_type": "stream",
     "text": [
      "Min Moonset is: 14:17:00 Min Freq: 11\n",
      "Max Moonset is: No moonset Max Freq: 1728\n"
     ]
    }
   ],
   "source": [
    "print(\"Min Moonset is:\",df_cat.Moonset.value_counts().idxmin(),\"Min Freq:\",df_cat.Moonset.value_counts().min())\n",
    "print(\"Max Moonset is:\",df_cat.Moonset.value_counts().idxmax(),\"Max Freq:\",df_cat.Moonset.value_counts().max())"
   ]
  },
  {
   "cell_type": "code",
   "execution_count": 130,
   "metadata": {},
   "outputs": [
    {
     "data": {
      "text/plain": [
       "17:36:00    1865\n",
       "20:37:00    1439\n",
       "20:38:00    1118\n",
       "17:38:00     864\n",
       "20:36:00     863\n",
       "Name: Sunset, dtype: int64"
      ]
     },
     "execution_count": 130,
     "metadata": {},
     "output_type": "execute_result"
    }
   ],
   "source": [
    "df_cat[\"Sunrise\"].value_counts().head() # Even it is not a real categoric variable but just hours of sunrise there are some highly\n",
    "                                  # often hours for sun to rise."
   ]
  },
  {
   "cell_type": "code",
   "execution_count": 131,
   "metadata": {},
   "outputs": [
    {
     "name": "stdout",
     "output_type": "stream",
     "text": [
      "Min Sunrise is: 07:01:00 Min Freq: 61\n",
      "Max Sunrise is: 05:32:00 Max Freq: 2302\n"
     ]
    }
   ],
   "source": [
    "print(\"Min Sunrise is:\",df_cat.Sunrise.value_counts().idxmin(),\"Min Freq:\",df_cat.Sunrise.value_counts().min())\n",
    "print(\"Max Sunrise is:\",df_cat.Sunrise.value_counts().idxmax(),\"Max Freq:\",df_cat.Sunrise.value_counts().max())"
   ]
  },
  {
   "cell_type": "code",
   "execution_count": 132,
   "metadata": {},
   "outputs": [
    {
     "data": {
      "text/plain": [
       "17:36:00    1865\n",
       "20:37:00    1439\n",
       "20:38:00    1118\n",
       "17:38:00     864\n",
       "20:36:00     863\n",
       "Name: Sunset, dtype: int64"
      ]
     },
     "execution_count": 132,
     "metadata": {},
     "output_type": "execute_result"
    }
   ],
   "source": [
    "df_cat[\"Sunset\"].value_counts().head() # Even it is not a real categoric variable but just hours of sunset there are some highly\n",
    "                                  # often hours for sun to set."
   ]
  },
  {
   "cell_type": "code",
   "execution_count": 133,
   "metadata": {},
   "outputs": [
    {
     "name": "stdout",
     "output_type": "stream",
     "text": [
      "Min Sunset is: 17:49:00 Min Freq: 127\n",
      "Max Sunset is: 17:36:00 Max Freq: 1865\n"
     ]
    }
   ],
   "source": [
    "print(\"Min Sunset is:\",df_cat.Sunset.value_counts().idxmin(),\"Min Freq:\",df_cat.Sunset.value_counts().min())\n",
    "print(\"Max Sunset is:\",df_cat.Sunset.value_counts().idxmax(),\"Max Freq:\",df_cat.Sunset.value_counts().max())"
   ]
  },
  {
   "cell_type": "code",
   "execution_count": 175,
   "metadata": {},
   "outputs": [
    {
     "name": "stdout",
     "output_type": "stream",
     "text": [
      "8.468314035083559\n",
      "7.169880651466229\n",
      "3.582522824956813\n",
      "0.9999902259891678\n",
      "8.133445800130504\n",
      "8.139591288587013\n",
      "7.170046141691182\n",
      "7.206536831702157\n"
     ]
    }
   ],
   "source": [
    "#Entropy\n",
    "import scipy.stats as sc\n",
    "\n",
    "print(sc.entropy(df_cat[\"Date\"].value_counts(),base=2))\n",
    "print(sc.entropy(df_cat[\"Time\"].value_counts(),base=2))\n",
    "print(sc.entropy(df_cat[\"Month\"].value_counts(),base=2))\n",
    "print(sc.entropy(df_cat[\"Day/Night\"].value_counts(),base=2))\n",
    "print(sc.entropy(df_cat[\"Moonrise\"].value_counts(),base=2))\n",
    "print(sc.entropy(df_cat[\"Moonset\"].value_counts(),base=2))\n",
    "print(sc.entropy(df_cat[\"Sunrise\"].value_counts(),base=2))\n",
    "print(sc.entropy(df_cat[\"Sunset\"].value_counts(),base=2))"
   ]
  },
  {
   "cell_type": "code",
   "execution_count": 181,
   "metadata": {},
   "outputs": [
    {
     "name": "stdout",
     "output_type": "stream",
     "text": [
      "356\n",
      "144\n",
      "12\n",
      "2\n",
      "306\n",
      "309\n",
      "171\n",
      "174\n"
     ]
    }
   ],
   "source": [
    "print(df3.Date.value_counts().count())\n",
    "print(df3.Time.value_counts().count())\n",
    "print(df3.Month.value_counts().count())\n",
    "print(df3[\"Day/Night\"].value_counts().count())\n",
    "print(df3.Moonrise.value_counts().count())\n",
    "print(df3.Moonset.value_counts().count())\n",
    "print(df3.Sunrise.value_counts().count())\n",
    "print(df3.Sunset.value_counts().count())"
   ]
  },
  {
   "cell_type": "code",
   "execution_count": 184,
   "metadata": {},
   "outputs": [
    {
     "data": {
      "text/html": [
       "<div>\n",
       "<style scoped>\n",
       "    .dataframe tbody tr th:only-of-type {\n",
       "        vertical-align: middle;\n",
       "    }\n",
       "\n",
       "    .dataframe tbody tr th {\n",
       "        vertical-align: top;\n",
       "    }\n",
       "\n",
       "    .dataframe thead th {\n",
       "        text-align: right;\n",
       "    }\n",
       "</style>\n",
       "<table border=\"1\" class=\"dataframe\">\n",
       "  <thead>\n",
       "    <tr style=\"text-align: right;\">\n",
       "      <th></th>\n",
       "      <th>Date</th>\n",
       "      <th>Time</th>\n",
       "      <th>LV ActivePower (kW)</th>\n",
       "      <th>Wind Speed (m/s)</th>\n",
       "      <th>Theoretical_Power_Curve (KWh)</th>\n",
       "      <th>Wind Direction (°)</th>\n",
       "      <th>Month</th>\n",
       "      <th>Day/Night</th>\n",
       "    </tr>\n",
       "  </thead>\n",
       "  <tbody>\n",
       "    <tr>\n",
       "      <th>0</th>\n",
       "      <td>01 01 2018</td>\n",
       "      <td>00:00:00</td>\n",
       "      <td>380.047791</td>\n",
       "      <td>5.311336</td>\n",
       "      <td>416.328908</td>\n",
       "      <td>259.994904</td>\n",
       "      <td>1</td>\n",
       "      <td>0</td>\n",
       "    </tr>\n",
       "    <tr>\n",
       "      <th>1</th>\n",
       "      <td>01 01 2018</td>\n",
       "      <td>00:10:00</td>\n",
       "      <td>453.769196</td>\n",
       "      <td>5.672167</td>\n",
       "      <td>519.917511</td>\n",
       "      <td>268.641113</td>\n",
       "      <td>1</td>\n",
       "      <td>0</td>\n",
       "    </tr>\n",
       "    <tr>\n",
       "      <th>2</th>\n",
       "      <td>01 01 2018</td>\n",
       "      <td>00:20:00</td>\n",
       "      <td>306.376587</td>\n",
       "      <td>5.216037</td>\n",
       "      <td>390.900016</td>\n",
       "      <td>272.564789</td>\n",
       "      <td>1</td>\n",
       "      <td>0</td>\n",
       "    </tr>\n",
       "    <tr>\n",
       "      <th>3</th>\n",
       "      <td>01 01 2018</td>\n",
       "      <td>00:30:00</td>\n",
       "      <td>419.645904</td>\n",
       "      <td>5.659674</td>\n",
       "      <td>516.127569</td>\n",
       "      <td>271.258087</td>\n",
       "      <td>1</td>\n",
       "      <td>0</td>\n",
       "    </tr>\n",
       "    <tr>\n",
       "      <th>4</th>\n",
       "      <td>01 01 2018</td>\n",
       "      <td>00:40:00</td>\n",
       "      <td>380.650696</td>\n",
       "      <td>5.577941</td>\n",
       "      <td>491.702972</td>\n",
       "      <td>265.674286</td>\n",
       "      <td>1</td>\n",
       "      <td>0</td>\n",
       "    </tr>\n",
       "  </tbody>\n",
       "</table>\n",
       "</div>"
      ],
      "text/plain": [
       "         Date      Time  LV ActivePower (kW)  Wind Speed (m/s)  \\\n",
       "0  01 01 2018  00:00:00           380.047791          5.311336   \n",
       "1  01 01 2018  00:10:00           453.769196          5.672167   \n",
       "2  01 01 2018  00:20:00           306.376587          5.216037   \n",
       "3  01 01 2018  00:30:00           419.645904          5.659674   \n",
       "4  01 01 2018  00:40:00           380.650696          5.577941   \n",
       "\n",
       "   Theoretical_Power_Curve (KWh)  Wind Direction (°)  Month  Day/Night  \n",
       "0                     416.328908          259.994904      1          0  \n",
       "1                     519.917511          268.641113      1          0  \n",
       "2                     390.900016          272.564789      1          0  \n",
       "3                     516.127569          271.258087      1          0  \n",
       "4                     491.702972          265.674286      1          0  "
      ]
     },
     "execution_count": 184,
     "metadata": {},
     "output_type": "execute_result"
    }
   ],
   "source": [
    "df.head()"
   ]
  },
  {
   "cell_type": "code",
   "execution_count": 183,
   "metadata": {},
   "outputs": [
    {
     "data": {
      "text/plain": [
       "10781"
      ]
     },
     "execution_count": 183,
     "metadata": {},
     "output_type": "execute_result"
    }
   ],
   "source": [
    "count=0\n",
    "for items in df[\"LV ActivePower (kW)\"]:\n",
    "    if items==0:\n",
    "        count=count+1\n",
    "        \n",
    "\n",
    "count\n",
    "            \n",
    "        "
   ]
  },
  {
   "cell_type": "code",
   "execution_count": 185,
   "metadata": {},
   "outputs": [
    {
     "data": {
      "text/plain": [
       "10"
      ]
     },
     "execution_count": 185,
     "metadata": {},
     "output_type": "execute_result"
    }
   ],
   "source": [
    "count=0\n",
    "for items in df[\"Wind Speed (m/s)\"]:\n",
    "    if items==0:\n",
    "        count=count+1\n",
    "        \n",
    "\n",
    "count"
   ]
  },
  {
   "cell_type": "code",
   "execution_count": 189,
   "metadata": {},
   "outputs": [
    {
     "data": {
      "text/plain": [
       "7749"
      ]
     },
     "execution_count": 189,
     "metadata": {},
     "output_type": "execute_result"
    }
   ],
   "source": [
    "count=0\n",
    "for items in df3[\"Theoretical_Power_Curve (KWh)\"]:\n",
    "    if items==0:\n",
    "        count=count+1\n",
    "        df4=df3.drop(items)\n",
    "\n",
    "count"
   ]
  },
  {
   "cell_type": "code",
   "execution_count": 187,
   "metadata": {},
   "outputs": [
    {
     "data": {
      "text/plain": [
       "75"
      ]
     },
     "execution_count": 187,
     "metadata": {},
     "output_type": "execute_result"
    }
   ],
   "source": [
    "count=0\n",
    "for items in df[\"Wind Direction (°)\"]:\n",
    "    if items==0:\n",
    "        count=count+1\n",
    "        \n",
    "\n",
    "count"
   ]
  },
  {
   "cell_type": "code",
   "execution_count": null,
   "metadata": {},
   "outputs": [],
   "source": []
  }
 ],
 "metadata": {
  "kernelspec": {
   "display_name": "Python 3",
   "language": "python",
   "name": "python3"
  },
  "language_info": {
   "codemirror_mode": {
    "name": "ipython",
    "version": 3
   },
   "file_extension": ".py",
   "mimetype": "text/x-python",
   "name": "python",
   "nbconvert_exporter": "python",
   "pygments_lexer": "ipython3",
   "version": "3.6.5"
  }
 },
 "nbformat": 4,
 "nbformat_minor": 2
}
